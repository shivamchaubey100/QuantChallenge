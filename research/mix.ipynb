{
 "cells": [
  {
   "cell_type": "code",
   "execution_count": 2,
   "id": "f8131c96",
   "metadata": {},
   "outputs": [],
   "source": [
    "import pandas as pd\n",
    "import numpy as np\n",
    "from sklearn.model_selection import train_test_split"
   ]
  },
  {
   "cell_type": "code",
   "execution_count": 4,
   "id": "3fc9195a",
   "metadata": {},
   "outputs": [],
   "source": [
    "df1 = pd.read_csv('/Users/shivam/Documents/QuantChallenge__/CORRECTED_PREDICTIONS_Y1_BASIC_Y2_FINANCIAL.csv')\n",
    "df2 = pd.read_csv('/Users/shivam/Documents/QuantChallenge__/y2_enhanced_predictions.csv')\n",
    "df3 = pd.concat([df1['id'], df1['Y1'], df2['Y2']], axis=0)\n",
    "df3.to_csv('/Users/shivam/Documents/QuantChallenge__/final_submission.csv', index=False)"
   ]
  },
  {
   "cell_type": "code",
   "execution_count": null,
   "id": "ca7d5fbf",
   "metadata": {},
   "outputs": [],
   "source": []
  }
 ],
 "metadata": {
  "kernelspec": {
   "display_name": "Python 3",
   "language": "python",
   "name": "python3"
  },
  "language_info": {
   "codemirror_mode": {
    "name": "ipython",
    "version": 3
   },
   "file_extension": ".py",
   "mimetype": "text/x-python",
   "name": "python",
   "nbconvert_exporter": "python",
   "pygments_lexer": "ipython3",
   "version": "3.12.4"
  }
 },
 "nbformat": 4,
 "nbformat_minor": 5
}
